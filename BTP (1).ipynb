{
 "cells": [
  {
   "cell_type": "code",
   "execution_count": 9,
   "metadata": {},
   "outputs": [],
   "source": [
    "import math"
   ]
  },
  {
   "cell_type": "code",
   "execution_count": 10,
   "metadata": {},
   "outputs": [],
   "source": [
    "Dd= 0.1143  #Drillbit Radius\n",
    "Da= 0.1809  #Annulus Radius\n",
    "An= 0.000749 #Nozzle Radius\n",
    "n=3        #No of nozzles\n",
    "H= 2000    #Length of Wellbore\n",
    "Qd= 0.03   #Flowrate through drillbit\n",
    "Mu= 0.4  #Viscosity\n",
    "d= 780     #Density\n",
    "Pa= 100000 #Atmospheric Pressure\n",
    "Kc=0.00285 \n",
    "Zci=0.95\n",
    "Cd=0.8\n",
    "b=689660000 #bulk modulus\n"
   ]
  },
  {
   "cell_type": "code",
   "execution_count": 11,
   "metadata": {},
   "outputs": [
    {
     "name": "stdout",
     "output_type": "stream",
     "text": [
      "Ad= 0.01025562465\n",
      "\n",
      "\n",
      "Aa= 0.02568897585\n",
      "\n",
      "\n",
      "J= 6645566.5338029135\n",
      "\n",
      "\n",
      "K= 1086228010.2887516\n",
      "\n",
      "\n",
      "Vd= 20.5112493\n",
      "\n",
      "\n",
      "Va= 51.3779517\n",
      "\n",
      "\n",
      "Md= 152111651.2391081\n",
      "\n",
      "\n"
     ]
    }
   ],
   "source": [
    "Ad=3.14*(Dd*Dd)/4\n",
    "print(\"Ad=\", Ad)\n",
    "print(\"\\n\")\n",
    "Aa=3.14*(Da*Da)/4\n",
    "print(\"Aa=\", Aa)\n",
    "print(\"\\n\")\n",
    "#An=n*3.14*(Dn)/4\n",
    "#print(\"An=\", An)\n",
    "#print(\"\\n\")\n",
    "J=32*Mu*H*Qd*((1/(Ad*Dd*Dd))+ (1/(Aa*Da*Da)))\n",
    "print(\"J=\", J)\n",
    "print(\"\\n\")\n",
    "K= d/(2*Cd*Cd*An*An)\n",
    "print(\"K=\", K)\n",
    "print(\"\\n\")\n",
    "Vd=Ad*H\n",
    "print(\"Vd=\", Vd)\n",
    "print(\"\\n\")\n",
    "Va=Aa*H\n",
    "print(\"Va=\", Va)\n",
    "print(\"\\n\")\n",
    "Md= d*H/Ad\n",
    "print(\"Md=\", Md)\n",
    "print(\"\\n\")\n"
   ]
  },
  {
   "cell_type": "code",
   "execution_count": 12,
   "metadata": {},
   "outputs": [
    {
     "data": {
      "text/plain": [
       "3.5904064000000006e-07"
      ]
     },
     "execution_count": 12,
     "metadata": {},
     "output_type": "execute_result"
    }
   ],
   "source": [
    "Cd*Cd*An*An"
   ]
  },
  {
   "cell_type": "code",
   "execution_count": 5,
   "metadata": {},
   "outputs": [
    {
     "data": {
      "text/plain": [
       "25600.0"
      ]
     },
     "execution_count": 5,
     "metadata": {},
     "output_type": "execute_result"
    }
   ],
   "source": [
    "32*Mu*H"
   ]
  },
  {
   "cell_type": "code",
   "execution_count": 7,
   "metadata": {},
   "outputs": [
    {
     "data": {
      "text/plain": [
       "1189.531852596096"
      ]
     },
     "execution_count": 7,
     "metadata": {},
     "output_type": "execute_result"
    }
   ],
   "source": [
    "1/(Aa*Da*Da)"
   ]
  },
  {
   "cell_type": "code",
   "execution_count": 6,
   "metadata": {},
   "outputs": [
    {
     "data": {
      "text/plain": [
       "7463.549571626448"
      ]
     },
     "execution_count": 6,
     "metadata": {},
     "output_type": "execute_result"
    }
   ],
   "source": [
    "1/(Ad*Dd*Dd)"
   ]
  },
  {
   "cell_type": "code",
   "execution_count": 14,
   "metadata": {},
   "outputs": [
    {
     "name": "stdout",
     "output_type": "stream",
     "text": [
      "Pc= 147881.7688630382\n",
      "\n",
      "\n",
      "Pp= 7771053.511925828\n",
      "\n",
      "\n",
      "Qp= 0.03\n",
      "\n",
      "\n"
     ]
    }
   ],
   "source": [
    "#Steady State Calculations\n",
    "Pc= (Qd*Qd*d/(2*Kc*Kc*Zci*Zci)) + Pa\n",
    "print(\"Pc=\", Pc)\n",
    "print(\"\\n\")\n",
    "Pp= Pc + J + (K*Qd*Qd)\n",
    "print(\"Pp=\", Pp)\n",
    "print(\"\\n\")\n",
    "Qp=Qd\n",
    "print(\"Qp=\", Qp)\n",
    "print(\"\\n\")"
   ]
  },
  {
   "cell_type": "code",
   "execution_count": null,
   "metadata": {},
   "outputs": [],
   "source": [
    "r= Pc-Pa\n",
    "print(r)"
   ]
  },
  {
   "cell_type": "code",
   "execution_count": null,
   "metadata": {},
   "outputs": [],
   "source": [
    "m= math.sqrt(r)\n",
    "print(m)"
   ]
  },
  {
   "cell_type": "code",
   "execution_count": null,
   "metadata": {},
   "outputs": [],
   "source": [
    "Ppm=[Pp]  #Pp value storing matrix\n",
    "Pcm=[Pc]  #Pc value storing matrix\n",
    "Qdm=[Qd]  #Qd value storing matrix\n",
    "dt=2.5  #Measurement frequency\n",
    "T=[0]"
   ]
  },
  {
   "cell_type": "code",
   "execution_count": null,
   "metadata": {},
   "outputs": [],
   "source": [
    "t=0\n",
    "#Iteration\n",
    "while t<61:\n",
    "    if t<21:\n",
    "        Zc=0.95\n",
    "    elif t>20 and t<41:\n",
    "        Zc=0.9\n",
    "    else:\n",
    "        Zc=0.9\n",
    "    Ppn= (((Qp-Qd)*b/Vd)*dt) + Pp\n",
    "    x= Pc- Pa\n",
    "    print(\"X=\", x)\n",
    "    y= math.sqrt(x)\n",
    "    G=math.sqrt(2/d)\n",
    "    Pcn= (Qd - (Kc*Zc*G*y))*b*dt/Va + Pc \n",
    "    Qdn= (Ppn-Pcn - (J*Qd) - (K*Qd*Qd))*dt/Md + Qd\n",
    "    Ppm.append(Ppn)\n",
    "    Pcm.append(Pcn)\n",
    "    Qdm.append(Qdn)\n",
    "    Pp=Ppn\n",
    "    print(\"Pp=\", Pp)\n",
    "    Pc=Pcn\n",
    "    print(\"Pc=\", Pc)\n",
    "    Qd=Qdn\n",
    "    print(\"Qd=\",Qd)\n",
    "    t=t+dt\n",
    "    print(\"t=\",t)\n",
    "    T.append(t)"
   ]
  },
  {
   "cell_type": "code",
   "execution_count": null,
   "metadata": {},
   "outputs": [],
   "source": [
    "print(\"Ppm=\", Ppm)\n",
    "print(\"\\n\")\n",
    "print(\"Pcm=\", Pcm)\n",
    "print(\"\\n\")\n",
    "print(\"Qdm=\", Qdm)\n",
    "print(\"\\n\")"
   ]
  },
  {
   "cell_type": "code",
   "execution_count": null,
   "metadata": {},
   "outputs": [],
   "source": [
    "import matplotlib.pyplot as plt"
   ]
  },
  {
   "cell_type": "code",
   "execution_count": null,
   "metadata": {},
   "outputs": [],
   "source": [
    "plt.scatter(T,Ppm)"
   ]
  },
  {
   "cell_type": "code",
   "execution_count": null,
   "metadata": {},
   "outputs": [],
   "source": []
  }
 ],
 "metadata": {
  "kernelspec": {
   "display_name": "Python 3",
   "language": "python",
   "name": "python3"
  },
  "language_info": {
   "codemirror_mode": {
    "name": "ipython",
    "version": 3
   },
   "file_extension": ".py",
   "mimetype": "text/x-python",
   "name": "python",
   "nbconvert_exporter": "python",
   "pygments_lexer": "ipython3",
   "version": "3.7.0"
  }
 },
 "nbformat": 4,
 "nbformat_minor": 2
}
