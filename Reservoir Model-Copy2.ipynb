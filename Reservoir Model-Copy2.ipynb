{
 "cells": [
  {
   "cell_type": "code",
   "execution_count": 1,
   "metadata": {},
   "outputs": [],
   "source": [
    "import math\n",
    "import numpy as numpy"
   ]
  },
  {
   "cell_type": "code",
   "execution_count": 23,
   "metadata": {},
   "outputs": [],
   "source": [
    "Dd= 0.1143  #Drillbit Radius in m\n",
    "Da= 0.1809  #Annulus Radius in m\n",
    "An= 7.49*(10**-4) #Nozzle Radius in m\n",
    "n=3        #No of nozzles\n",
    "H= 2000    #Length of Wellbore in m\n",
    "Qd= 0.03   #Flowrate through drillbit in m^3/sec\n",
    "Mu= 0.4  #Viscosity in Pa-s \n",
    "d= 780     #Density in Kg/m^3\n",
    "Pa= 10**5 #Atmospheric Pressure in Pa\n",
    "Pe= 150*(10**5) # Reservoir Pressure in Pa\n",
    "Kc=2.85*(10**-3) \n",
    "Zc=0.6\n",
    "Cd=0.8\n",
    "b=6.89660000*(10**8) #bulk modulus in Pa\n",
    "Kp= 5*(10**-12)     #Permeability in m2\n",
    "Re= 100           #Reservoir Extent in m\n",
    "Rw=0.1143         #Wellbore Radius in m"
   ]
  },
  {
   "cell_type": "code",
   "execution_count": 24,
   "metadata": {},
   "outputs": [
    {
     "name": "stdout",
     "output_type": "stream",
     "text": [
      "Ad= 0.01025562465\n",
      "\n",
      "\n",
      "Aa= 0.02568897585\n",
      "\n",
      "\n",
      "J= 221518884.46009713\n",
      "\n",
      "\n",
      "K= 1086228010.2887511\n",
      "\n",
      "\n",
      "Vd= 20.5112493\n",
      "\n",
      "\n",
      "Va= 51.3779517\n",
      "\n",
      "\n",
      "Md= 152111651.2391081\n",
      "\n",
      "\n"
     ]
    }
   ],
   "source": [
    "Ad=3.14*(Dd**2)/4\n",
    "print(\"Ad=\", Ad)\n",
    "print(\"\\n\")\n",
    "Aa=3.14*(Da**2)/4\n",
    "print(\"Aa=\", Aa)\n",
    "print(\"\\n\")\n",
    "#An=n*3.14*(Dn)/4\n",
    "#print(\"An=\", An)\n",
    "#print(\"\\n\")\n",
    "J=32*Mu*H*((1/(Ad*(Dd**2)))+ (1/(Aa*(Da**2))))\n",
    "print(\"J=\", J)\n",
    "print(\"\\n\")\n",
    "K= d/(2*(Cd**2)*(An**2))\n",
    "print(\"K=\", K)\n",
    "print(\"\\n\")\n",
    "Vd=Ad*H\n",
    "print(\"Vd=\", Vd)\n",
    "print(\"\\n\")\n",
    "Va=Aa*H\n",
    "print(\"Va=\", Va)\n",
    "print(\"\\n\")\n",
    "Md= d*H/Ad\n",
    "print(\"Md=\", Md)\n",
    "print(\"\\n\")\n",
    "\n"
   ]
  },
  {
   "cell_type": "code",
   "execution_count": 25,
   "metadata": {},
   "outputs": [],
   "source": [
    "d1= 32*Mu*H/(Ad*(Dd**2))\n",
    "d2= d/(2*(Cd**2)*(An**2))\n",
    "d3= Pe - 9.8*d*H\n",
    "d4= 32*Mu*H/(Aa*(Da**2))\n",
    "m= 6.28*Kp*H*Mu/((numpy.log(Re/Rw))-0.5) #coefficient of pressure diffrential in Qres\n",
    "a1= Qd + m*(d1*Qd + d2*(Qd**2) +d3)\n",
    "a2= Kc*Zc\n",
    "a3= 2/d\n",
    "a4= -a3*Pa\n",
    "a5= a1/a2\n",
    "b1= m*d4\n",
    "b2= d4*Qd + m*d4*( d2*(Qd**2) - d1*Qd +d3) + d1*Qd + d2*(Qd**2)\n",
    "m1= m/a2\n",
    "c1= 1-b1\n",
    "c2= b2 + a4"
   ]
  },
  {
   "cell_type": "code",
   "execution_count": 26,
   "metadata": {},
   "outputs": [
    {
     "name": "stdout",
     "output_type": "stream",
     "text": [
      "R1= 2.1380060833522318e-09\n",
      "\n",
      "\n",
      "R2= -1.1814214723424366\n",
      "\n",
      "\n",
      "R3= 7522339.206994016\n",
      "det= 1.3314254673694017\n",
      "\n",
      "\n",
      "Pp1= 546138666.9969834\n",
      "\n",
      "\n",
      "Pp= 6442301.570728638\n",
      "\n",
      "\n"
     ]
    }
   ],
   "source": [
    "R1 = (m1**2)/a3\n",
    "print(\"R1=\", R1)\n",
    "print(\"\\n\")\n",
    "R2 = - ((2*m1*a5)/a3 + d4*m + 1)\n",
    "print(\"R2=\", R2)\n",
    "print(\"\\n\")\n",
    "R3 = (a5**2)/a3 + Pa + b2\n",
    "print(\"R3=\", R3)\n",
    "det=(R2**2)- 4*R1*R3\n",
    "print(\"det=\", det)\n",
    "print(\"\\n\")\n",
    "Pp1= ((math.sqrt(det))-R2)/(2*R1)\n",
    "Pp=-((math.sqrt(det))+R2)/(2*R1)\n",
    "print(\"Pp1=\", Pp1)\n",
    "print(\"\\n\")\n",
    "print(\"Pp=\", Pp)\n",
    "print(\"\\n\")"
   ]
  },
  {
   "cell_type": "code",
   "execution_count": null,
   "metadata": {},
   "outputs": [],
   "source": []
  },
  {
   "cell_type": "code",
   "execution_count": 27,
   "metadata": {},
   "outputs": [
    {
     "name": "stdout",
     "output_type": "stream",
     "text": [
      "Pc= 985993.9263121199\n",
      "\n",
      "\n"
     ]
    }
   ],
   "source": [
    "#steady state for Pc\n",
    "Pc= ((m1**2)/a3)*(Pp**2) + 2*m1*a5*Pp/a3 + (a5**2)/a3 + Pa\n",
    "print(\"Pc=\", Pc)\n",
    "print(\"\\n\")"
   ]
  },
  {
   "cell_type": "code",
   "execution_count": 28,
   "metadata": {},
   "outputs": [
    {
     "name": "stdout",
     "output_type": "stream",
     "text": [
      "0.043675850464916614\n"
     ]
    }
   ],
   "source": [
    "Qres= m*(Pp + d1*Qd - d2*(Qd**2) + d3)\n",
    "print(Qres)"
   ]
  },
  {
   "cell_type": "code",
   "execution_count": 29,
   "metadata": {},
   "outputs": [
    {
     "data": {
      "text/plain": [
       "26484702.432477877"
      ]
     },
     "execution_count": 29,
     "metadata": {},
     "output_type": "execute_result"
    }
   ],
   "source": [
    "Pp + d1*Qd - d2*(Qd**2) + 9.8*d*H"
   ]
  },
  {
   "cell_type": "code",
   "execution_count": null,
   "metadata": {},
   "outputs": [],
   "source": [
    "#Steady State Calculations\n",
    "M=6.28*Kp*H*Mu/((numpy.log(Re/Rw))-0.5)\n",
    "C= (32*Mu*H*Qd/Aa) + d*H*9.81 - 200*(10**5)\n",
    "#Solving Quadratic\n",
    "R1=M**2\n",
    "2\n",
    "R2=2*C*(M**2) + 2*Qd*M - 2*(Kc**2)*(Zci**2)/d\n",
    "print(\"R2=\", R2)\n",
    "print(\"\\n\")\n",
    "R3= (Qd**2)+ (M**2)*(C**2) + 2*Qd*M*C+ 2*(Kc**2)*(Zci**2)*Pa/d\n",
    "print(\"R3=\", R3)\n",
    "print(\"\\n\")\n",
    "det=(R2**2)- 4*R1*R2\n",
    "print(\"det=\", det)\n",
    "print(\"\\n\")\n",
    "Pc= ((math.sqrt(det))-R2)/(2*R1)\n",
    "Pc2=-((math.sqrt(det))+R2)/(2*R1)\n",
    "print(\"Pc=\", Pc)\n",
    "print(\"\\n\")\n",
    "print(\"Pc2=\", Pc2)\n",
    "print(\"\\n\")"
   ]
  },
  {
   "cell_type": "code",
   "execution_count": null,
   "metadata": {},
   "outputs": [],
   "source": [
    "#Steady State Calculations\n",
    "Pp=Pc+ J*Qd +K*(Qd**2)+ 32*Mu*H*M*(Pc+C)/(Aa*Da*Da)\n",
    "print(\"Pp=\", Pp)\n",
    "print(\"\\n\")\n",
    "Qp=Qd\n",
    "print(\"Qp=\", Qp)\n",
    "print(\"\\n\")"
   ]
  },
  {
   "cell_type": "code",
   "execution_count": null,
   "metadata": {},
   "outputs": [],
   "source": []
  },
  {
   "cell_type": "code",
   "execution_count": null,
   "metadata": {},
   "outputs": [],
   "source": []
  },
  {
   "cell_type": "code",
   "execution_count": null,
   "metadata": {},
   "outputs": [],
   "source": []
  },
  {
   "cell_type": "code",
   "execution_count": null,
   "metadata": {},
   "outputs": [],
   "source": [
    "\n"
   ]
  },
  {
   "cell_type": "code",
   "execution_count": null,
   "metadata": {},
   "outputs": [],
   "source": []
  },
  {
   "cell_type": "code",
   "execution_count": null,
   "metadata": {},
   "outputs": [],
   "source": [
    "Ppm=[Pp]  #Pp value storing matrix\n",
    "Pcm=[Pc]  #Pc value storing matrix\n",
    "Qdm=[Qd]  #Qd value storing matrix\n",
    "dt=0.1  #Measurement frequency\n",
    "T=[0]"
   ]
  },
  {
   "cell_type": "code",
   "execution_count": null,
   "metadata": {},
   "outputs": [],
   "source": [
    "t=0\n",
    "\n",
    "#Iteration\n",
    "while t<61:\n",
    "    if t<31:\n",
    "        Zc=0.5\n",
    "    #elif t>20 and t<41:\n",
    "        #Zc=0.9\n",
    "    else:\n",
    "        Zc=0.3\n",
    "    Ppn= (((Qp-Qd)*b*dt/Vd)) + Pp\n",
    "    x= Pc- Pa\n",
    "    print(\"X=\", x)\n",
    "    y= math.sqrt(x)\n",
    "    G=math.sqrt(2/d)\n",
    "    Pcn= (Qd +M*(Pc+(32*Mu*H*Qd)/(Aa*(Da**2))+d*H*9.81)- (Kc*Zc*G*y))*b*dt/Va + Pc \n",
    "    Qdn= (Ppn-Pcn - (J*Qd)-(32*Mu*H)*(M*(Pcn+ d*H*9.81+(32*Mu*H*Qd))/(Aa*(Da**2))) - (K*Qd**2))*dt/Md + Qd\n",
    "    Ppm.append(Ppn)\n",
    "    Pcm.append(Pcn)\n",
    "    Qdm.append(Qdn)\n",
    "    Pp=Ppn\n",
    "    print(\"Pp=\", Pp)\n",
    "    Pc=Pcn\n",
    "    print(\"Pc=\", Pc)\n",
    "    Qd=Qdn\n",
    "    print(\"Qd=\",Qd)\n",
    "    t=t+dt\n",
    "    print(\"t=\",t)\n",
    "    T.append(t)"
   ]
  },
  {
   "cell_type": "code",
   "execution_count": null,
   "metadata": {},
   "outputs": [],
   "source": []
  },
  {
   "cell_type": "code",
   "execution_count": null,
   "metadata": {},
   "outputs": [],
   "source": [
    "print(\"Ppm=\", Ppm)\n",
    "print(\"\\n\")\n",
    "print(\"Pcm=\", Pcm)\n",
    "print(\"\\n\")\n",
    "print(\"Qdm=\", Qdm)\n",
    "print(\"\\n\")"
   ]
  },
  {
   "cell_type": "code",
   "execution_count": null,
   "metadata": {},
   "outputs": [],
   "source": [
    "import matplotlib.pyplot as plt"
   ]
  },
  {
   "cell_type": "code",
   "execution_count": null,
   "metadata": {},
   "outputs": [],
   "source": [
    "for i in Ppm:\n",
    "    i=i*(10**-8)Ppm_scaled= Ppm*(10**-8)\n",
    "plt.scatter(T,Ppm_scaled)\n",
    "plt.xlim(0,60)\n",
    "plt.ylim(3,4)"
   ]
  },
  {
   "cell_type": "code",
   "execution_count": null,
   "metadata": {},
   "outputs": [],
   "source": [
    "plt.scatter(T,Pcm)\n",
    "plt.xlim(0,60)"
   ]
  },
  {
   "cell_type": "code",
   "execution_count": null,
   "metadata": {},
   "outputs": [],
   "source": [
    "plt.scatter(T,Qdm)\n",
    "plt.xlim(0,60)"
   ]
  },
  {
   "cell_type": "code",
   "execution_count": null,
   "metadata": {},
   "outputs": [],
   "source": []
  }
 ],
 "metadata": {
  "kernelspec": {
   "display_name": "Python 3",
   "language": "python",
   "name": "python3"
  },
  "language_info": {
   "codemirror_mode": {
    "name": "ipython",
    "version": 3
   },
   "file_extension": ".py",
   "mimetype": "text/x-python",
   "name": "python",
   "nbconvert_exporter": "python",
   "pygments_lexer": "ipython3",
   "version": "3.7.0"
  }
 },
 "nbformat": 4,
 "nbformat_minor": 2
}
