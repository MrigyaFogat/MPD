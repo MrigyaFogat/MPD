{
 "cells": [
  {
   "cell_type": "code",
   "execution_count": 1,
   "metadata": {},
   "outputs": [],
   "source": [
    "import math"
   ]
  },
  {
   "cell_type": "code",
   "execution_count": 2,
   "metadata": {},
   "outputs": [],
   "source": [
    "Dd= 0.1143  #Drillbit Radius\n",
    "Da= 0.1809  #Annulus Radius\n",
    "Dn= 0.0086 #Nozzle Radius\n",
    "n=3        #No of nozzles\n",
    "H= 2000    #Length of Wellbore\n",
    "Qd= 0.03   #Flowrate through drillbit\n",
    "Mu= 0.4  #Viscosity\n",
    "d= 780     #Density\n",
    "Pa= 100000 #Atmospheric Pressure\n",
    "Kc=0.00285 \n",
    "Zci=0.95\n",
    "Cd=0.8\n",
    "b=689660000 #bulk modulus\n"
   ]
  },
  {
   "cell_type": "code",
   "execution_count": 3,
   "metadata": {},
   "outputs": [
    {
     "name": "stdout",
     "output_type": "stream",
     "text": [
      "Ad= 0.01025562465\n",
      "\n",
      "\n",
      "Aa= 0.02568897585\n",
      "\n",
      "\n",
      "An= 0.020253\n",
      "\n",
      "\n",
      "J= 6645566.5338029135\n",
      "\n",
      "\n",
      "K= 1485613.740734588\n",
      "\n",
      "\n",
      "Vd= 20.5112493\n",
      "\n",
      "\n",
      "Va= 51.3779517\n",
      "\n",
      "\n",
      "Md= 152111651.2391081\n",
      "\n",
      "\n"
     ]
    }
   ],
   "source": [
    "Ad=3.14*(Dd*Dd)/4\n",
    "print(\"Ad=\", Ad)\n",
    "print(\"\\n\")\n",
    "Aa=3.14*(Da*Da)/4\n",
    "print(\"Aa=\", Aa)\n",
    "print(\"\\n\")\n",
    "An=n*3.14*(Dn)/4\n",
    "print(\"An=\", An)\n",
    "print(\"\\n\")\n",
    "J=32*Mu*H*Qd*((1/(Ad*Dd*Dd))+ (1/(Aa*Da*Da)))\n",
    "print(\"J=\", J)\n",
    "print(\"\\n\")\n",
    "K= d/(2*Cd*Cd*An*An)\n",
    "print(\"K=\", K)\n",
    "print(\"\\n\")\n",
    "Vd=Ad*H\n",
    "print(\"Vd=\", Vd)\n",
    "print(\"\\n\")\n",
    "Va=Aa*H\n",
    "print(\"Va=\", Va)\n",
    "print(\"\\n\")\n",
    "Md= d*H/Ad\n",
    "print(\"Md=\", Md)\n",
    "print(\"\\n\")\n"
   ]
  },
  {
   "cell_type": "code",
   "execution_count": 4,
   "metadata": {},
   "outputs": [
    {
     "name": "stdout",
     "output_type": "stream",
     "text": [
      "Pc= 147881.7688630382\n",
      "\n",
      "\n",
      "Pp= 348585.81724378676\n",
      "\n",
      "\n",
      "Qp= 0.03\n",
      "\n",
      "\n"
     ]
    }
   ],
   "source": [
    "#Steady State Calculations\n",
    "Pc= (Qd*Qd*d/(2*Kc*Kc*Zci*Zci)) + Pa\n",
    "print(\"Pc=\", Pc)\n",
    "print(\"\\n\")\n",
    "Pp= Pc + J*Qd + K*Qd*Qd\n",
    "print(\"Pp=\", Pp)\n",
    "print(\"\\n\")\n",
    "Qp=Qd\n",
    "print(\"Qp=\", Qp)\n",
    "print(\"\\n\")"
   ]
  },
  {
   "cell_type": "code",
   "execution_count": 5,
   "metadata": {},
   "outputs": [
    {
     "name": "stdout",
     "output_type": "stream",
     "text": [
      "47881.76886303819\n"
     ]
    }
   ],
   "source": [
    "r= Pc-Pa\n",
    "print(r)"
   ]
  },
  {
   "cell_type": "code",
   "execution_count": 6,
   "metadata": {},
   "outputs": [
    {
     "name": "stdout",
     "output_type": "stream",
     "text": [
      "218.8190322230637\n"
     ]
    }
   ],
   "source": [
    "m= math.sqrt(r)\n",
    "print(m)"
   ]
  },
  {
   "cell_type": "code",
   "execution_count": 7,
   "metadata": {},
   "outputs": [],
   "source": [
    "Ppm=[Pp]  #Pp value storing matrix\n",
    "Pcm=[Pc]  #Pc value storing matrix\n",
    "Qdm=[Qd]  #Qd value storing matrix\n",
    "dt=2.5  #Measurement frequency\n",
    "T=[0]"
   ]
  },
  {
   "cell_type": "code",
   "execution_count": 8,
   "metadata": {},
   "outputs": [
    {
     "name": "stdout",
     "output_type": "stream",
     "text": [
      "X= 47881.76886303819\n",
      "Pp= 348585.81724378676\n",
      "Pc= 147881.7688630383\n",
      "Qd= 0.03\n",
      "t= 2.5\n",
      "X= 47881.768863038305\n",
      "Pp= 348585.81724378676\n",
      "Pc= 147881.76886303714\n",
      "Qd= 0.030000000000000016\n",
      "t= 5.0\n",
      "X= 47881.76886303714\n",
      "Pp= 348585.8172437853\n",
      "Pc= 147881.76886304878\n",
      "Qd= 0.02999999999999982\n",
      "t= 7.5\n",
      "X= 47881.76886304878\n",
      "Pp= 348585.8172438005\n",
      "Pc= 147881.76886293144\n",
      "Qd= 0.03000000000000182\n",
      "t= 10.0\n",
      "X= 47881.768862931436\n",
      "Pp= 348585.8172436474\n",
      "Pc= 147881.76886411483\n",
      "Qd= 0.029999999999981635\n",
      "t= 12.5\n",
      "X= 47881.76886411483\n",
      "Pp= 348585.817245191\n",
      "Pc= 147881.7688521801\n",
      "Qd= 0.030000000000185205\n",
      "t= 15.0\n",
      "X= 47881.7688521801\n",
      "Pp= 348585.81722962286\n",
      "Pc= 147881.7689725445\n",
      "Qd= 0.02999999999813215\n",
      "t= 17.5\n",
      "X= 47881.768972544494\n",
      "Pp= 348585.81738663197\n",
      "Pc= 147881.76775864256\n",
      "Qd= 0.03000000001883767\n",
      "t= 20.0\n",
      "X= 47881.767758642556\n",
      "Pp= 348585.8158031609\n",
      "Pc= 147881.7800011158\n",
      "Qd= 0.029999999810017875\n",
      "t= 22.5\n",
      "X= 47881.78000111581\n",
      "Pp= 348585.83177282097\n",
      "Pc= 200868.24575694412\n",
      "Qd= 0.029129151642672237\n",
      "t= 25.0\n",
      "X= 100868.24575694412\n",
      "Pp= 421788.25710176764\n",
      "Pc= -205911.84068685793\n",
      "Qd= 0.03624333100670049\n",
      "t= 27.5\n",
      "X= -305911.84068685793\n"
     ]
    },
    {
     "ename": "ValueError",
     "evalue": "math domain error",
     "output_type": "error",
     "traceback": [
      "\u001b[1;31m---------------------------------------------------------------------------\u001b[0m",
      "\u001b[1;31mValueError\u001b[0m                                Traceback (most recent call last)",
      "\u001b[1;32m<ipython-input-8-67ff96408877>\u001b[0m in \u001b[0;36m<module>\u001b[1;34m\u001b[0m\n\u001b[0;32m     11\u001b[0m     \u001b[0mx\u001b[0m\u001b[1;33m=\u001b[0m \u001b[0mPc\u001b[0m\u001b[1;33m-\u001b[0m \u001b[0mPa\u001b[0m\u001b[1;33m\u001b[0m\u001b[0m\n\u001b[0;32m     12\u001b[0m     \u001b[0mprint\u001b[0m\u001b[1;33m(\u001b[0m\u001b[1;34m\"X=\"\u001b[0m\u001b[1;33m,\u001b[0m \u001b[0mx\u001b[0m\u001b[1;33m)\u001b[0m\u001b[1;33m\u001b[0m\u001b[0m\n\u001b[1;32m---> 13\u001b[1;33m     \u001b[0my\u001b[0m\u001b[1;33m=\u001b[0m \u001b[0mmath\u001b[0m\u001b[1;33m.\u001b[0m\u001b[0msqrt\u001b[0m\u001b[1;33m(\u001b[0m\u001b[0mx\u001b[0m\u001b[1;33m)\u001b[0m\u001b[1;33m\u001b[0m\u001b[0m\n\u001b[0m\u001b[0;32m     14\u001b[0m     \u001b[0mG\u001b[0m\u001b[1;33m=\u001b[0m\u001b[0mmath\u001b[0m\u001b[1;33m.\u001b[0m\u001b[0msqrt\u001b[0m\u001b[1;33m(\u001b[0m\u001b[1;36m2\u001b[0m\u001b[1;33m/\u001b[0m\u001b[0md\u001b[0m\u001b[1;33m)\u001b[0m\u001b[1;33m\u001b[0m\u001b[0m\n\u001b[0;32m     15\u001b[0m     \u001b[0mPcn\u001b[0m\u001b[1;33m=\u001b[0m \u001b[1;33m(\u001b[0m\u001b[0mQd\u001b[0m \u001b[1;33m-\u001b[0m \u001b[1;33m(\u001b[0m\u001b[0mKc\u001b[0m\u001b[1;33m*\u001b[0m\u001b[0mZc\u001b[0m\u001b[1;33m*\u001b[0m\u001b[0mG\u001b[0m\u001b[1;33m*\u001b[0m\u001b[0my\u001b[0m\u001b[1;33m)\u001b[0m\u001b[1;33m)\u001b[0m\u001b[1;33m*\u001b[0m\u001b[0mb\u001b[0m\u001b[1;33m*\u001b[0m\u001b[0mdt\u001b[0m\u001b[1;33m/\u001b[0m\u001b[0mVa\u001b[0m \u001b[1;33m+\u001b[0m \u001b[0mPc\u001b[0m\u001b[1;33m\u001b[0m\u001b[0m\n",
      "\u001b[1;31mValueError\u001b[0m: math domain error"
     ]
    }
   ],
   "source": [
    "t=0\n",
    "#Iteration\n",
    "while t<61:\n",
    "    if t<21:\n",
    "        Zc=0.95\n",
    "    elif t>20 and t<41:\n",
    "        Zc=0.9\n",
    "    else:\n",
    "        Zc=0.9\n",
    "    Ppn= (((Qp-Qd)*b/Vd)*dt) + Pp\n",
    "    x= Pc- Pa\n",
    "    print(\"X=\", x)\n",
    "    y= math.sqrt(x)\n",
    "    G=math.sqrt(2/d)\n",
    "    Pcn= (Qd - (Kc*Zc*G*y))*b*dt/Va + Pc \n",
    "    Qdn= (Ppn-Pcn - (J*Qd) - (K*Qd*Qd))*dt/Md + Qd\n",
    "    Ppm.append(Ppn)\n",
    "    Pcm.append(Pcn)\n",
    "    Qdm.append(Qdn)\n",
    "    Pp=Ppn\n",
    "    print(\"Pp=\", Pp)\n",
    "    Pc=Pcn\n",
    "    print(\"Pc=\", Pc)\n",
    "    Qd=Qdn\n",
    "    print(\"Qd=\",Qd)\n",
    "    t=t+dt\n",
    "    print(\"t=\",t)\n",
    "    T.append(t)"
   ]
  },
  {
   "cell_type": "code",
   "execution_count": null,
   "metadata": {},
   "outputs": [],
   "source": [
    "print(\"Ppm=\", Ppm)\n",
    "print(\"\\n\")\n",
    "print(\"Pcm=\", Pcm)\n",
    "print(\"\\n\")\n",
    "print(\"Qdm=\", Qdm)\n",
    "print(\"\\n\")"
   ]
  },
  {
   "cell_type": "code",
   "execution_count": null,
   "metadata": {},
   "outputs": [],
   "source": [
    "import matplotlib.pyplot as plt"
   ]
  },
  {
   "cell_type": "code",
   "execution_count": null,
   "metadata": {},
   "outputs": [],
   "source": [
    "plt.scatter(T,Ppm)"
   ]
  },
  {
   "cell_type": "code",
   "execution_count": null,
   "metadata": {},
   "outputs": [],
   "source": []
  }
 ],
 "metadata": {
  "kernelspec": {
   "display_name": "Python 3",
   "language": "python",
   "name": "python3"
  },
  "language_info": {
   "codemirror_mode": {
    "name": "ipython",
    "version": 3
   },
   "file_extension": ".py",
   "mimetype": "text/x-python",
   "name": "python",
   "nbconvert_exporter": "python",
   "pygments_lexer": "ipython3",
   "version": "3.7.0"
  }
 },
 "nbformat": 4,
 "nbformat_minor": 2
}
