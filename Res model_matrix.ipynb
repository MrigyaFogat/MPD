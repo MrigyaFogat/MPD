{
 "cells": [
  {
   "cell_type": "code",
   "execution_count": 1,
   "metadata": {},
   "outputs": [],
   "source": [
    "import math\n",
    "import numpy as numpy"
   ]
  },
  {
   "cell_type": "code",
   "execution_count": 2,
   "metadata": {},
   "outputs": [],
   "source": [
    "Dd= 4.5*0.0254  #Drillbit Radius in m\n",
    "Da= 0.1809  #Annulus Radius in m\n",
    "An= 1.1562*(0.0254**2) #Nozzle Radius in m\n",
    "n=3        #No of nozzles\n",
    "H= 2000    #Length of Wellbore in m\n",
    "Qp= 0.03   #Flowrate through drillbit in m^3/sec\n",
    "Mu= 0.4  #Viscosity in Pa-s \n",
    "Mu_oil= 5*(10**-3)  #Viscosity in Pa-s \n",
    "d= 780     #Density in Kg/m^3\n",
    "Pa= 10**5 #Atmospheric Pressure in Pa\n",
    "Pe= 280*(10**5) # Reservoir Pressure in Pa\n",
    "Kc=2.85*(10**-3) \n",
    "Zc=0.6\n",
    "Cd=0.8\n",
    "b=6.89660000*(10**8) #bulk modulus in Pa\n",
    "Kp= 5*(10**-12)     #Permeability in m2\n",
    "Re= 100           #Reservoir Extent in m\n",
    "Rw=4.5*0.0254         #Wellbore Radius in m"
   ]
  },
  {
   "cell_type": "code",
   "execution_count": 3,
   "metadata": {},
   "outputs": [
    {
     "name": "stdout",
     "output_type": "stream",
     "text": [
      "Ad= 0.01025562465\n",
      "\n",
      "\n",
      "Aa= 0.02568897585\n",
      "\n",
      "\n",
      "J= 221518884.46009713\n",
      "\n",
      "\n",
      "K= 1095175794.4984725\n",
      "\n",
      "\n",
      "Vd= 20.5112493\n",
      "\n",
      "\n",
      "Va= 51.3779517\n",
      "\n",
      "\n",
      "Md= 152111651.2391081\n",
      "\n",
      "\n"
     ]
    }
   ],
   "source": [
    "Ad=3.14*(Dd**2)/4\n",
    "print(\"Ad=\", Ad)\n",
    "print(\"\\n\")\n",
    "Aa=3.14*(Da**2)/4\n",
    "print(\"Aa=\", Aa)\n",
    "print(\"\\n\")\n",
    "#An=n*3.14*(Dn)/4\n",
    "#print(\"An=\", An)\n",
    "#print(\"\\n\")\n",
    "J=32*Mu*H*((1/(Ad*(Dd**2)))+ (1/(Aa*(Da**2))))\n",
    "print(\"J=\", J)\n",
    "print(\"\\n\")\n",
    "K= d/(2*(Cd**2)*(An**2))\n",
    "print(\"K=\", K)\n",
    "print(\"\\n\")\n",
    "Vd=Ad*H\n",
    "print(\"Vd=\", Vd)\n",
    "print(\"\\n\")\n",
    "Va=Aa*H\n",
    "print(\"Va=\", Va)\n",
    "print(\"\\n\")\n",
    "Md= d*H/Ad\n",
    "print(\"Md=\", Md)\n",
    "print(\"\\n\")\n",
    "Qd = Qp\n",
    "\n"
   ]
  },
  {
   "cell_type": "code",
   "execution_count": 4,
   "metadata": {},
   "outputs": [
    {
     "name": "stdout",
     "output_type": "stream",
     "text": [
      "-2.0018811006743995e-06\n"
     ]
    }
   ],
   "source": [
    "m= 6.28*Kp*H/(Mu_oil*(0.5 - numpy.log(Re/Rw)))\n",
    "print(m)"
   ]
  },
  {
   "cell_type": "code",
   "execution_count": 5,
   "metadata": {
    "scrolled": true
   },
   "outputs": [
    {
     "name": "stdout",
     "output_type": "stream",
     "text": [
      "-0.0011706907021487717\n"
     ]
    }
   ],
   "source": [
    "d1= 32*Mu*H/(Ad*(Dd**2))\n",
    "d2= d/(2*(Cd**2)*(An**2))\n",
    "d3= 9.8*d*H - Pe  \n",
    "d4= 32*Mu*H/(Aa*(Da**2))\n",
    "m= 6.28*Kp*H/(Mu_oil*(0.5 - numpy.log(Re/Rw))) #coefficient of pressure diffrential in Qres\n",
    "\n",
    "a1= Qd + m*(d1*Qd - d2*(Qd**2) +d3)\n",
    "a2= Kc*Zc\n",
    "a3= 2/d\n",
    "a4= -a3*Pa\n",
    "a5= a1/a2\n",
    "\n",
    "b1= m*d4\n",
    "b2= -d4*Qd - m*d4*( d1*Qd - d2*(Qd**2) +d3) - d1*Qd - d2*(Qd**2)\n",
    "\n",
    "m1= m/a2\n",
    "print(m1)\n",
    "c1= a3*(1-b1)\n",
    "c2= a3*(b2 + a4)"
   ]
  },
  {
   "cell_type": "code",
   "execution_count": 6,
   "metadata": {},
   "outputs": [
    {
     "name": "stdout",
     "output_type": "stream",
     "text": [
      "R1= 1.370516720097584e-06\n",
      "\n",
      "\n",
      "R2= -22.034070931028687\n",
      "\n",
      "\n",
      "R3= 88553697.27839768\n",
      "det= 0.0429908075876142\n",
      "\n",
      "\n",
      "Pp= 7962956.001733588\n",
      "\n",
      "\n",
      "Pp1= 8114243.647067347\n",
      "\n",
      "\n"
     ]
    }
   ],
   "source": [
    "R1 = (m1**2)\n",
    "print(\"R1=\", R1)\n",
    "print(\"\\n\")\n",
    "R2 = 2*m1*a5 - c1\n",
    "print(\"R2=\", R2)\n",
    "print(\"\\n\")\n",
    "R3 = (a5**2) - c2\n",
    "print(\"R3=\", R3)\n",
    "det=(R2**2)- 4*R1*R3\n",
    "print(\"det=\", det)\n",
    "print(\"\\n\")\n",
    "Pp1= ((math.sqrt(det))-R2)/(2*R1)\n",
    "Pp=-((math.sqrt(det))+R2)/(2*R1)\n",
    "print(\"Pp=\", Pp)\n",
    "print(\"\\n\")\n",
    "print(\"Pp1=\", Pp1)\n",
    "print(\"\\n\")"
   ]
  },
  {
   "cell_type": "code",
   "execution_count": null,
   "metadata": {},
   "outputs": [],
   "source": [
    "(1-b1)"
   ]
  },
  {
   "cell_type": "code",
   "execution_count": null,
   "metadata": {},
   "outputs": [],
   "source": [
    "(1-b1)*Pp1/100000"
   ]
  },
  {
   "cell_type": "code",
   "execution_count": null,
   "metadata": {},
   "outputs": [],
   "source": [
    "(1-b1)*Pp/100000"
   ]
  },
  {
   "cell_type": "code",
   "execution_count": null,
   "metadata": {},
   "outputs": [],
   "source": [
    "b2/100000"
   ]
  },
  {
   "cell_type": "code",
   "execution_count": 7,
   "metadata": {},
   "outputs": [
    {
     "name": "stdout",
     "output_type": "stream",
     "text": [
      "Pc= 167370.87475150824\n",
      "\n",
      "\n"
     ]
    }
   ],
   "source": [
    "#steady state for Pc\n",
    "Pc= (1-b1)*Pp + b2\n",
    "print(\"Pc=\", Pc)\n",
    "print(\"\\n\")"
   ]
  },
  {
   "cell_type": "code",
   "execution_count": null,
   "metadata": {},
   "outputs": [],
   "source": [
    "Pc1= (1-b1)*Pp1 + b2\n",
    "print(\"Pc1=\", Pc1)\n",
    "print(\"\\n\")"
   ]
  },
  {
   "cell_type": "code",
   "execution_count": 8,
   "metadata": {},
   "outputs": [
    {
     "name": "stdout",
     "output_type": "stream",
     "text": [
      "27997303.857694075\n"
     ]
    }
   ],
   "source": [
    "BHCP = Pp + d1*Qd - d2*(Qd**2) + d3 + Pe\n",
    "print(BHCP)"
   ]
  },
  {
   "cell_type": "code",
   "execution_count": null,
   "metadata": {},
   "outputs": [],
   "source": [
    "BHCP - Pe"
   ]
  },
  {
   "cell_type": "code",
   "execution_count": 9,
   "metadata": {},
   "outputs": [
    {
     "name": "stdout",
     "output_type": "stream",
     "text": [
      "0.00539735632696093\n"
     ]
    }
   ],
   "source": [
    "Qres= m*(BHCP - Pe)\n",
    "print(Qres)"
   ]
  },
  {
   "cell_type": "code",
   "execution_count": 10,
   "metadata": {},
   "outputs": [],
   "source": [
    "Pc_bar= Pc\n",
    "Pp_bar=Pp\n",
    "Qd_bar=Qd\n",
    "Qp_bar= Qp\n",
    "Zc_bar= Zc\n",
    "dPp= Pp-Pp_bar\n",
    "dPc= Pc-Pc_bar\n",
    "dQd= Qd-Qd_bar\n",
    "dQp=Qp-Qp_bar\n",
    "dZc= Zc-Zc_bar"
   ]
  },
  {
   "cell_type": "code",
   "execution_count": 11,
   "metadata": {},
   "outputs": [],
   "source": [
    "p= Kc*Zc/math.sqrt(2*d*(Pc_bar-Pa))\n",
    "l= (d*Qd_bar/(Cd**2)*(An**2)) - (32*Mu*H/Ad*(Dd**2))\n"
   ]
  },
  {
   "cell_type": "code",
   "execution_count": 12,
   "metadata": {},
   "outputs": [],
   "source": [
    "X= numpy.array([[Pp],\n",
    "   [Pc],\n",
    "   [Qd]])\n",
    "\n",
    "A = numpy.array([[0,0, (-b/Vd)],\n",
    "              [(-b*m/Va),(-b*p/Va),((b/Va)*(1 + m*l))],\n",
    "              [(1 + 32*Mu*H*m/Aa*(Da**2))/Md, (-1/Md), (-1/Md)*(32*Mu*H*((1/(Aa*(Da**2))) + (1/(Ad*(Dd**2)))))]])\n",
    "\n",
    "B= numpy.array([[b/Vd, 0],\n",
    "   [0, (b/Va)*(Kc*math.sqrt(2*(Pc_bar - Pa)/d))],\n",
    "   [0,0]])\n",
    "du = numpy.array([[dQp],\n",
    "     [dZc]])"
   ]
  },
  {
   "cell_type": "code",
   "execution_count": 13,
   "metadata": {},
   "outputs": [],
   "source": [
    "G= X - numpy.dot(B,du)\n",
    "Y= numpy.linalg.inv(A)\n",
    "dX= numpy.dot(Y,G)"
   ]
  },
  {
   "cell_type": "code",
   "execution_count": 14,
   "metadata": {},
   "outputs": [
    {
     "data": {
      "text/plain": [
       "array([[8.41010458e+06],\n",
       "       [5.37516016e+06],\n",
       "       [6.31729030e-03]])"
      ]
     },
     "execution_count": 14,
     "metadata": {},
     "output_type": "execute_result"
    }
   ],
   "source": [
    "dt= 0.1\n",
    "X_dash = dX*dt \n",
    "X_new = numpy.add(X_dash, X)\n",
    "X_new"
   ]
  },
  {
   "cell_type": "code",
   "execution_count": null,
   "metadata": {},
   "outputs": [],
   "source": []
  },
  {
   "cell_type": "code",
   "execution_count": null,
   "metadata": {},
   "outputs": [],
   "source": [
    "X_new = "
   ]
  },
  {
   "cell_type": "code",
   "execution_count": null,
   "metadata": {},
   "outputs": [],
   "source": [
    "\n"
   ]
  },
  {
   "cell_type": "code",
   "execution_count": null,
   "metadata": {},
   "outputs": [],
   "source": []
  },
  {
   "cell_type": "code",
   "execution_count": null,
   "metadata": {},
   "outputs": [],
   "source": [
    "Ppm=[Pp]  #Pp value storing matrix\n",
    "Pcm=[Pc]  #Pc value storing matrix\n",
    "Qdm=[Qd]  #Qd value storing matrix\n",
    "dt=0.1  #Measurement frequency\n",
    "T=[0]"
   ]
  },
  {
   "cell_type": "code",
   "execution_count": null,
   "metadata": {},
   "outputs": [],
   "source": [
    "t=0\n",
    "Pp= Pp1\n",
    "#Iteration\n",
    "while t<61:\n",
    "    \n",
    "    Ppn= (((Qp-Qd)*b*dt/Vd)) + Pp\n",
    "    x= Pc- Pa\n",
    "    print(\"X=\", x)\n",
    "    y= math.sqrt(x)\n",
    "    G=math.sqrt(2/d)\n",
    "    BHCP = Ppn + d1*Qd - d2*(Qd**2) + d3 + Pe\n",
    "    Qres= m*(BHCP - Pe)\n",
    "    Pcn= (Qd + Qres - (Kc*Zc*G*y))*b*dt/Va + Pc \n",
    "    Qdn= (Ppn-Pcn - (d1*Qd)-((d4)*(Qd + Qres)) - (d2*Qd**2))*dt/Md + Qd\n",
    "    Ppm.append(Ppn)\n",
    "    Pcm.append(Pcn)\n",
    "    Qdm.append(Qdn)\n",
    "    Pp=Ppn\n",
    "    print(\"Pp=\", Pp)\n",
    "    Pc=Pcn\n",
    "    print(\"Pc=\", Pc)\n",
    "    Qd=Qdn\n",
    "    print(\"Qd=\",Qd)\n",
    "    \n",
    "    t=t+dt\n",
    "    print(\"t=\",t)\n",
    "    T.append(t)"
   ]
  },
  {
   "cell_type": "code",
   "execution_count": null,
   "metadata": {},
   "outputs": [],
   "source": []
  },
  {
   "cell_type": "code",
   "execution_count": null,
   "metadata": {},
   "outputs": [],
   "source": [
    "print(\"Ppm=\", Ppm)\n",
    "print(\"\\n\")\n",
    "print(\"Pcm=\", Pcm)\n",
    "print(\"\\n\")\n",
    "print(\"Qdm=\", Qdm)\n",
    "print(\"\\n\")"
   ]
  },
  {
   "cell_type": "code",
   "execution_count": null,
   "metadata": {},
   "outputs": [],
   "source": [
    "import matplotlib.pyplot as plt"
   ]
  },
  {
   "cell_type": "code",
   "execution_count": null,
   "metadata": {},
   "outputs": [],
   "source": [
    "for i in Ppm:\n",
    "    i=i*(10**-8)Ppm_scaled= Ppm*(10**-8)\n",
    "plt.scatter(T,Ppm_scaled)\n",
    "plt.xlim(0,60)\n",
    "plt.ylim(3,4)"
   ]
  },
  {
   "cell_type": "code",
   "execution_count": null,
   "metadata": {},
   "outputs": [],
   "source": [
    "plt.scatter(T,Pcm)\n",
    "plt.xlim(0,60)"
   ]
  },
  {
   "cell_type": "code",
   "execution_count": null,
   "metadata": {},
   "outputs": [],
   "source": [
    "plt.scatter(T,Qdm)\n",
    "plt.xlim(0,60)"
   ]
  },
  {
   "cell_type": "code",
   "execution_count": null,
   "metadata": {},
   "outputs": [],
   "source": []
  }
 ],
 "metadata": {
  "kernelspec": {
   "display_name": "Python 3",
   "language": "python",
   "name": "python3"
  },
  "language_info": {
   "codemirror_mode": {
    "name": "ipython",
    "version": 3
   },
   "file_extension": ".py",
   "mimetype": "text/x-python",
   "name": "python",
   "nbconvert_exporter": "python",
   "pygments_lexer": "ipython3",
   "version": "3.7.0"
  }
 },
 "nbformat": 4,
 "nbformat_minor": 2
}
